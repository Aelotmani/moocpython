{
 "cells": [
  {
   "cell_type": "markdown",
   "metadata": {},
   "source": [
    "# Corrigés de la semaine 2"
   ]
  },
  {
   "cell_type": "markdown",
   "metadata": {},
   "source": [
    "### pythonid (regexp) - Semaine 2 Séquence 2"
   ]
  },
  {
   "cell_type": "code",
   "execution_count": null,
   "metadata": {},
   "outputs": [],
   "source": [
    "# un identificateur commence par une lettre ou un underscore\n",
    "# et peut être suivi par n'importe quel nombre de\n",
    "# lettre, chiffre ou underscore, ce qui se trouve être \\w\n",
    "# si on ne se met pas en mode unicode\n",
    "pythonid = \"[a-zA-Z_]\\w*\""
   ]
  },
  {
   "cell_type": "markdown",
   "metadata": {},
   "source": [
    "### pythonid (bis) - Semaine 2 Séquence 2"
   ]
  },
  {
   "cell_type": "code",
   "execution_count": null,
   "metadata": {},
   "outputs": [],
   "source": [
    "# on peut aussi bien sûr l'écrire en clair\n",
    "pythonid_bis = \"[a-zA-Z_][a-zA-Z0-9_]*\""
   ]
  },
  {
   "cell_type": "markdown",
   "metadata": {},
   "source": [
    "### agenda (regexp) - Semaine 2 Séquence 2"
   ]
  },
  {
   "cell_type": "code",
   "execution_count": null,
   "metadata": {},
   "outputs": [],
   "source": [
    "# l'exercice est basé sur re.match, ce qui signifie que\n",
    "# le match est cherché au début de la chaine\n",
    "# MAIS il nous faut bien mettre \\Z à la fin de notre regexp,\n",
    "# sinon par exemple avec la cinquième entrée le nom 'Du Pré'\n",
    "# sera reconnu partiellement comme simplement 'Du'\n",
    "# au lieu d'être rejeté à cause de l'espace\n",
    "# \n",
    "# du coup pensez à bien toujours définir\n",
    "# vos regexps avec des raw-strings\n",
    "#\n",
    "# remarquez sinon l'utilisation à la fin de :? pour signifier qu'on peut\n",
    "# mettre ou non un deuxième séparateur ':' \n",
    "#   \n",
    "agenda = r\"\\A(?P<prenom>[-\\w]*):(?P<nom>[-\\w]+):?\\Z\""
   ]
  },
  {
   "cell_type": "markdown",
   "metadata": {},
   "source": [
    "### phone (regexp) - Semaine 2 Séquence 2"
   ]
  },
  {
   "cell_type": "code",
   "execution_count": null,
   "metadata": {},
   "outputs": [],
   "source": [
    "# idem concernant le \\Z final\n",
    "#\n",
    "# il faut bien backslasher le + dans le +33\n",
    "# car sinon cela veut dire 'un ou plusieurs'\n",
    "#\n",
    "phone = r\"(\\+33|0)(?P<number>[0-9]{9})\\Z\""
   ]
  },
  {
   "cell_type": "markdown",
   "metadata": {},
   "source": [
    "### url (regexp) - Semaine 2 Séquence 2"
   ]
  },
  {
   "cell_type": "code",
   "execution_count": null,
   "metadata": {},
   "outputs": [],
   "source": [
    "# en ignorant la casse on pourra ne mentionner les noms de protocoles\n",
    "# qu'en minuscules\n",
    "i_flag = \"(?i)\"\n",
    "    \n",
    "# pour élaborer la chaine (proto1|proto2|...)\n",
    "protos_list = ['http', 'https', 'ftp', 'ssh', ] \n",
    "protos      = \"(?P<proto>\" + \"|\".join(protos_list) + \")\"\n",
    "   \n",
    "# à l'intérieur de la zone 'user/password', la partie\n",
    "# password est optionnelle - mais on ne veut pas le ':' dans\n",
    "# le groupe 'password' - il nous faut deux groupes\n",
    "password    = r\"(:(?P<password>[^:]+))?\"\n",
    "  \n",
    "# la partie user-password elle-même est optionnelle\n",
    "# on utilise ici un raw f-string avec le préfixe rf\n",
    "# pour insérer la regexp <password> dans la regexp <user>\n",
    "user        = rf\"((?P<user>\\w+){password}@)?\"\n",
    "  \n",
    "# pour le hostname on accepte des lettres, chiffres, underscore et '.'\n",
    "# attention à backslaher . car sinon ceci va matcher tout y compris /\n",
    "hostname    = r\"(?P<hostname>[\\w\\.]+)\"\n",
    "  \n",
    "# le port est optionnel\n",
    "port        = r\"(:(?P<port>\\d+))?\"\n",
    "   \n",
    "# après le premier slash\n",
    "path        = r\"(?P<path>.*)\"\n",
    "    \n",
    "# on assemble le tout\n",
    "url = i_flag + protos + \"://\" + user + hostname + port + '/' + path"
   ]
  },
  {
   "cell_type": "markdown",
   "metadata": {},
   "source": [
    "### label - Semaine 2 Séquence 6"
   ]
  },
  {
   "cell_type": "code",
   "execution_count": null,
   "metadata": {},
   "outputs": [],
   "source": [
    "def label(prenom, note):\n",
    "    if note < 10:\n",
    "        return f\"{prenom} est recalé\"\n",
    "    elif note < 16:\n",
    "        return f\"{prenom} est reçu\"\n",
    "    else:\n",
    "        return f\"félicitations à {prenom}\""
   ]
  },
  {
   "cell_type": "markdown",
   "metadata": {},
   "source": [
    "### label (bis) - Semaine 2 Séquence 6"
   ]
  },
  {
   "cell_type": "code",
   "execution_count": null,
   "metadata": {},
   "outputs": [],
   "source": [
    "def label_bis(prenom, note):\n",
    "    if note < 10:\n",
    "        return f\"{prenom} est recalé\"\n",
    "    # on n'en a pas vraiment besoin ici, mais\n",
    "    # juste pour illustrer cette construction\n",
    "    elif 10 <= note < 16:\n",
    "        return f\"{prenom} est reçu\"\n",
    "    else:\n",
    "        return f\"félicitations à {prenom}\""
   ]
  },
  {
   "cell_type": "markdown",
   "metadata": {},
   "source": [
    "### label (ter) - Semaine 2 Séquence 6"
   ]
  },
  {
   "cell_type": "code",
   "execution_count": null,
   "metadata": {},
   "outputs": [],
   "source": [
    "# on n'a pas encore vu l'expression conditionnelle\n",
    "# et dans ce cas précis ce n'est pas forcément une\n",
    "# idée géniale, mais pour votre curiosité on peut aussi\n",
    "# faire comme ceci\n",
    "def label_ter(prenom, note):\n",
    "    return f\"{prenom} est recalé\" if note < 10 \\\n",
    "    else f\"{prenom} est reçu\" if 10 <= note < 16 \\\n",
    "    else f\"félicitations à {prenom}\""
   ]
  },
  {
   "cell_type": "markdown",
   "metadata": {},
   "source": [
    "### inconnue - Semaine 2 Séquence 6"
   ]
  },
  {
   "cell_type": "code",
   "execution_count": null,
   "metadata": {},
   "outputs": [],
   "source": [
    "# pour enlever à gauche et à droite une chaine de longueur x\n",
    "# on peut faire composite[ x : -x ]\n",
    "# or ici x vaut len(connue)\n",
    "def inconnue(composite, connue):\n",
    "    return composite[ len(connue) : -len(connue) ]"
   ]
  },
  {
   "cell_type": "markdown",
   "metadata": {},
   "source": [
    "### inconnue (bis) - Semaine 2 Séquence 6"
   ]
  },
  {
   "cell_type": "code",
   "execution_count": null,
   "metadata": {},
   "outputs": [],
   "source": [
    "# ce qui peut aussi s'écrire comme ceci si on préfère\n",
    "def inconnue_bis(composite, connue):\n",
    "    return composite[ len(connue) : len(composite)-len(connue) ]"
   ]
  },
  {
   "cell_type": "markdown",
   "metadata": {},
   "source": [
    "### laccess - Semaine 2 Séquence 6"
   ]
  },
  {
   "cell_type": "code",
   "execution_count": null,
   "metadata": {},
   "outputs": [],
   "source": [
    "def laccess(liste):\n",
    "    \"\"\"\n",
    "    retourne un élément de la liste selon la taille\n",
    "    \"\"\"\n",
    "    # si la liste est vide il n'y a rien à faire\n",
    "    if not liste:\n",
    "        return\n",
    "    # si la liste est de taille paire\n",
    "    if len(liste) % 2 == 0:\n",
    "        return liste[-1]\n",
    "    else:\n",
    "        return liste[len(liste)//2]"
   ]
  },
  {
   "cell_type": "markdown",
   "metadata": {},
   "source": [
    "### laccess (bis) - Semaine 2 Séquence 6"
   ]
  },
  {
   "cell_type": "code",
   "execution_count": null,
   "metadata": {},
   "outputs": [],
   "source": [
    "# une autre version qui utilise\n",
    "# un trait qu'on n'a pas encore vu\n",
    "def laccess(liste):\n",
    "    # si la liste est vide il n'y a rien à faire\n",
    "    if not liste:\n",
    "        return\n",
    "    # l'index à utiliser selon la taille\n",
    "    index = -1 if len(liste) % 2 == 0 else len(liste) // 2\n",
    "    return liste[index]"
   ]
  },
  {
   "cell_type": "markdown",
   "metadata": {},
   "source": [
    "### divisible - Semaine 2 Séquence 6"
   ]
  },
  {
   "cell_type": "code",
   "execution_count": null,
   "metadata": {},
   "outputs": [],
   "source": [
    "def divisible(a, b):\n",
    "    \"renvoie True si un des deux arguments divise l'autre\"\n",
    "    # b divise a si et seulement si le reste\n",
    "    # de la division de a par b est nul\n",
    "    if a % b == 0:\n",
    "        return True\n",
    "    # et il faut regarder aussi si a divise b\n",
    "    if b % a == 0:\n",
    "        return True\n",
    "    return False"
   ]
  },
  {
   "cell_type": "markdown",
   "metadata": {},
   "source": [
    "### divisible (bis) - Semaine 2 Séquence 6"
   ]
  },
  {
   "cell_type": "code",
   "execution_count": null,
   "metadata": {},
   "outputs": [],
   "source": [
    "def divisible_bis(a, b):\n",
    "    \"renvoie True si un des deux arguments divise l'autre\"\n",
    "    # on n'a pas encore vu les opérateurs logiques, mais\n",
    "    # on peut aussi faire tout simplement comme ça\n",
    "    # sans faire de if du tout\n",
    "    return a % b == 0 or b % a == 0"
   ]
  },
  {
   "cell_type": "markdown",
   "metadata": {},
   "source": [
    "### morceaux - Semaine 2 Séquence 6"
   ]
  },
  {
   "cell_type": "code",
   "execution_count": null,
   "metadata": {},
   "outputs": [],
   "source": [
    "def morceaux(x):\n",
    "    if x <= -5:\n",
    "        return -x - 5\n",
    "    elif x <= 5:\n",
    "        return 0\n",
    "    else:\n",
    "        return x / 5 - 1"
   ]
  },
  {
   "cell_type": "markdown",
   "metadata": {},
   "source": [
    "### morceaux (bis) - Semaine 2 Séquence 6"
   ]
  },
  {
   "cell_type": "code",
   "execution_count": null,
   "metadata": {},
   "outputs": [],
   "source": [
    "def morceaux_bis(x):\n",
    "    if x <= -5:\n",
    "        return -x - 5\n",
    "    if x <= 5:\n",
    "        return 0\n",
    "    return x / 5 - 1"
   ]
  },
  {
   "cell_type": "markdown",
   "metadata": {},
   "source": [
    "### morceaux (ter) - Semaine 2 Séquence 6"
   ]
  },
  {
   "cell_type": "code",
   "execution_count": null,
   "metadata": {},
   "outputs": [],
   "source": [
    "# on peut aussi faire des tests d'intervalle\n",
    "# comme ceci  0 <= x <= 10\n",
    "def morceaux_ter(x):\n",
    "    if x <= -5:\n",
    "        return -x - 5\n",
    "    elif -5 <= x <= 5:\n",
    "        return 0\n",
    "    else:\n",
    "        return x / 5 - 1"
   ]
  },
  {
   "cell_type": "markdown",
   "metadata": {},
   "source": [
    "### liste_P - Semaine 2 Séquence 7"
   ]
  },
  {
   "cell_type": "code",
   "execution_count": null,
   "metadata": {},
   "outputs": [],
   "source": [
    "def P(x):\n",
    "    return 2 * x**2 - 3 * x - 2\n",
    "\n",
    "def liste_P(liste_x):\n",
    "    \"\"\"\n",
    "    retourne la liste des valeurs de P \n",
    "    sur les entrées figurant dans liste_x\n",
    "    \"\"\"\n",
    "    return [P(x) for x in liste_x]"
   ]
  },
  {
   "cell_type": "markdown",
   "metadata": {},
   "source": [
    "### liste_P (bis) - Semaine 2 Séquence 7"
   ]
  },
  {
   "cell_type": "code",
   "execution_count": null,
   "metadata": {},
   "outputs": [],
   "source": [
    "# On peut bien entendu faire aussi de manière pédestre\n",
    "def liste_P_bis(liste_x):\n",
    "    liste_y = []\n",
    "    for x in liste_x:\n",
    "        liste_y.append(P(x))\n",
    "    return liste_y"
   ]
  },
  {
   "cell_type": "markdown",
   "metadata": {},
   "source": [
    "### carre - Semaine 2 Séquence 7"
   ]
  },
  {
   "cell_type": "code",
   "execution_count": null,
   "metadata": {},
   "outputs": [],
   "source": [
    "def carre(line):\n",
    "    # on enlève les espaces et les tabulations\n",
    "    line = line.replace(' ', '').replace('\\t','')\n",
    "    # la ligne suivante fait le plus gros du travail\n",
    "    # d'abord on appelle split() pour découper selon les ';'\n",
    "    # dans le cas où on a des ';' en trop, on obtient dans le \n",
    "    #    résultat du split un 'token' vide, que l'on ignore \n",
    "    #    ici avec le clause 'if token'\n",
    "    # enfin on convertit tous les tokens restants en entiers avec int()\n",
    "    entiers = [int(token) for token in line.split(\";\")\n",
    "               # en éliminant les entrées vides qui correspondent\n",
    "               # à des point-virgules en trop\n",
    "               if token]\n",
    "    # il n'y a plus qu'à mettre au carré, retraduire en strings,\n",
    "    # et à recoudre le tout avec join et ':'\n",
    "    return \":\".join([str(entier**2) for entier in entiers])"
   ]
  },
  {
   "cell_type": "markdown",
   "metadata": {},
   "source": [
    "### carre (bis) - Semaine 2 Séquence 7"
   ]
  },
  {
   "cell_type": "code",
   "execution_count": null,
   "metadata": {},
   "outputs": [],
   "source": [
    "def carre_bis(line):\n",
    "    # pareil mais avec, à la place des compréhensions\n",
    "    # des expressions génératrices que - rassurez-vous -\n",
    "    # l'on n'a pas vues encore, on en parlera en semaine 5\n",
    "    # le point que je veux illustrer ici c'est que c'est\n",
    "    # exactement le même code mais avec () au lieu de []\n",
    "    line = line.replace(' ', '').replace('\\t','')\n",
    "    entiers = (int(token) for token in line.split(\";\")\n",
    "               if token)\n",
    "    return \":\".join(str(entier**2) for entier in entiers)"
   ]
  }
 ],
 "metadata": {
  "kernelspec": {
   "display_name": "Python 3",
   "language": "python",
   "name": "python3"
  },
  "language_info": {
   "codemirror_mode": {
    "name": "ipython",
    "version": 3
   },
   "file_extension": ".py",
   "mimetype": "text/x-python",
   "name": "python",
   "nbconvert_exporter": "python",
   "pygments_lexer": "ipython3",
   "version": "3.6.3"
  }
 },
 "nbformat": 4,
 "nbformat_minor": 2
}
